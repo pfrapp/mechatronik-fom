{
 "cells": [
  {
   "cell_type": "markdown",
   "id": "5ea29f8c",
   "metadata": {},
   "source": [
    "Funktion mehrere Veraenderlicher\n"
   ]
  },
  {
   "cell_type": "code",
   "execution_count": null,
   "id": "15ff488c",
   "metadata": {},
   "outputs": [],
   "source": [
    "import numpy as np\n",
    "import matplotlib.pyplot as plt\n",
    "%matplotlib inline"
   ]
  },
  {
   "cell_type": "markdown",
   "id": "f1206177",
   "metadata": {},
   "source": [
    "Einfache Funktion"
   ]
  },
  {
   "cell_type": "code",
   "execution_count": null,
   "id": "c077ebfe",
   "metadata": {},
   "outputs": [],
   "source": [
    "def f(x):\n",
    "    x1 = x[0]\n",
    "    x2 = x[1]\n",
    "    v = 3*x1 + 5*x2**2\n",
    "    return v"
   ]
  },
  {
   "cell_type": "markdown",
   "id": "db245c68",
   "metadata": {},
   "source": [
    "Etwas anspruchsvollere Funktion"
   ]
  },
  {
   "cell_type": "code",
   "execution_count": null,
   "id": "0e0b4048",
   "metadata": {},
   "outputs": [],
   "source": [
    "def f(x):\n",
    "    x1 = x[0]\n",
    "    x2 = x[1]\n",
    "    v = -100/((x1-1)**2 + (x2-1)**2 + 1)\n",
    "    v -= 200/((x1+1)**2 + (x2+1)**2 + 1)\n",
    "    return -v"
   ]
  },
  {
   "cell_type": "code",
   "execution_count": null,
   "id": "fd9d1b05",
   "metadata": {},
   "outputs": [],
   "source": [
    "x, y = np.mgrid[-3:3:0.1,-3:3:0.1]\n",
    "pos = np.dstack((x,y))\n",
    "\n",
    "F_vals = np.zeros((pos.shape[:2]))\n",
    "for ii in range(pos.shape[0]):\n",
    "    for jj in range(pos.shape[1]):\n",
    "        F_vals[ii,jj] = f(pos[ii,jj,:])\n",
    "\n",
    "fig = plt.figure(1, figsize=(16,10))\n",
    "plt.clf()\n",
    "ax = fig.add_subplot(1,1,1, projection='3d')\n",
    "ax.view_init(elev=20, azim=20)\n",
    "ax.plot_wireframe(x, y, F_vals, color=[0,0,0], linewidth=0.5)\n",
    "ax.contour(x, y, F_vals, offset=-200, levels=16)\n",
    "ax.grid(True)\n",
    "ax.set(xlabel='x_1'); ax.set(ylabel='x_2')\n",
    "ax.set(xlim=(-3,3)); ax.set(ylim=(-3,3)); ax.set(zlim=(-200,100))\n",
    "plt.show()"
   ]
  },
  {
   "cell_type": "code",
   "execution_count": null,
   "id": "89d21077",
   "metadata": {},
   "outputs": [],
   "source": []
  }
 ],
 "metadata": {
  "kernelspec": {
   "display_name": "Python 3 (ipykernel)",
   "language": "python",
   "name": "python3"
  },
  "language_info": {
   "codemirror_mode": {
    "name": "ipython",
    "version": 3
   },
   "file_extension": ".py",
   "mimetype": "text/x-python",
   "name": "python",
   "nbconvert_exporter": "python",
   "pygments_lexer": "ipython3",
   "version": "3.9.13"
  }
 },
 "nbformat": 4,
 "nbformat_minor": 5
}
