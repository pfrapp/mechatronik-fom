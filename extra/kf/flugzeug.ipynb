{
 "cells": [
  {
   "cell_type": "markdown",
   "id": "a23ef35c",
   "metadata": {},
   "source": [
    "# Kalman Filter zur Zustandsschaetzung\n",
    "\n",
    "_Philipp Rapp_\n",
    "\n",
    "**Mechatronik 2022/2023**\n",
    "\n"
   ]
  },
  {
   "cell_type": "code",
   "execution_count": null,
   "id": "38f88af0",
   "metadata": {},
   "outputs": [],
   "source": [
    "# Pakete\n",
    "import numpy as np\n",
    "import matplotlib.pyplot as plt\n",
    "from scipy.stats import multivariate_normal\n",
    "\n",
    "%matplotlib inline"
   ]
  },
  {
   "cell_type": "markdown",
   "id": "ef77f59a",
   "metadata": {},
   "source": [
    "## Erzeugung der Trajektorie des wahren Zustands\n",
    "\n",
    "Da wir in der Simulation arbeiten, koennen wir die Trajektorie $x(t)$ des wahren (und eigentlich unbekannten) Zustands erzeugen.\n",
    "Damit koennen wir die Funktion des Kalman Filters ueberpruefen.\n",
    "\n",
    "Wir diskretisieren den Verlauf des Zustands mit der Schrittweite $\\Delta T = 0.01$ (das entspricht 100 Hz) und speichern das Ergebnis in einem Dictionary.\n",
    "\n",
    "Als Szenario nehmen wir an, dass das Flugzeug durch einen Punkt modelliert wird und eine Acht abfliegt.\n",
    "\n",
    "Die (wahre) Position des Punktziels ist gegeben durch die Position $(p_x, p_y)$ mit\n",
    "\\begin{align}\n",
    "    p_x &= \\cos(\\omega t) \\\\\n",
    "    p_y &= \\sin(2 \\omega t)\n",
    "\\end{align}\n",
    "mit $t \\in [0,T]$.\n",
    "\n",
    "Die Geschwindigkeit ergibt sich damit zu\n",
    "\\begin{align}\n",
    "    v_x &= -\\omega \\sin(\\omega t) \\\\\n",
    "    v_y &= 2 \\omega \\cos(2 \\omega t)\n",
    "\\end{align}"
   ]
  },
  {
   "cell_type": "code",
   "execution_count": null,
   "id": "c586874c",
   "metadata": {},
   "outputs": [],
   "source": [
    "T = 10\n",
    "omega = 2*np.pi/T\n",
    "\n",
    "true_state = {}\n",
    "true_state['step_size'] = 0.01\n",
    "# 0 bis 10 Sekunden\n",
    "true_state['t'] = np.arange(0, 10.0, true_state['step_size'])\n",
    "true_state['pos_x'] = np.cos(omega*true_state['t'])\n",
    "true_state['pos_y'] = np.sin(2.0*omega*true_state['t'])\n",
    "true_state['x'] = np.column_stack((true_state['pos_x'], true_state['pos_y']))"
   ]
  },
  {
   "cell_type": "code",
   "execution_count": null,
   "id": "9793342a",
   "metadata": {},
   "outputs": [],
   "source": [
    "plt.plot(true_state['pos_x'], true_state['pos_y'])\n",
    "plt.grid(True)\n",
    "plt.xlabel('pos_x')\n",
    "plt.ylabel('pos_y')\n",
    "plt.show()"
   ]
  },
  {
   "cell_type": "markdown",
   "id": "b6608076",
   "metadata": {},
   "source": [
    "## Hinzufuegen von Messrauschen\n",
    "\n",
    "Als naechstes fuegen wir Messrauschen hinzu. Wir nehmen an, dass das Messrauschen mittelwertfrei, normalverteilt und weiss ist. Weisses Rauschen bedeutet, dass es zeitlich unkorreliert ist.\n",
    "\n"
   ]
  },
  {
   "cell_type": "code",
   "execution_count": null,
   "id": "824f2279",
   "metadata": {},
   "outputs": [],
   "source": [
    "R = 0.02**2 * np.eye(2)\n",
    "print(f'Kovarianzmatrix R des Messrauschens:\\n{R}')\n",
    "\n",
    "measurement_noise = { 'mean': np.array([0.0, 0.0]), 'cov': R }\n",
    "measurement_noise_distribution = multivariate_normal(mean=measurement_noise['mean'], cov=measurement_noise['cov'])"
   ]
  },
  {
   "cell_type": "markdown",
   "id": "df3eaf01",
   "metadata": {},
   "source": [
    "## Erzeugung des Messsignals\n",
    "\n",
    "Das gemessene Signal $y(t)$ besteht aus der Position, die zusaetzlich durch Rauschen ueberlagert ist.\n",
    "\n",
    "Wir nehmen die gleiche zeitliche Diskretisierung an wie fuer den wahren Zustand."
   ]
  },
  {
   "cell_type": "code",
   "execution_count": null,
   "id": "b3364631",
   "metadata": {},
   "outputs": [],
   "source": [
    "N = len(true_state['t'])\n",
    "\n",
    "measurement_signal = {}\n",
    "measurement_signal['t'] = true_state['t']\n",
    "measurement_signal['y'] = true_state['x'] + measurement_noise_distribution.rvs(N)"
   ]
  },
  {
   "cell_type": "code",
   "execution_count": null,
   "id": "b358d4b2",
   "metadata": {},
   "outputs": [],
   "source": [
    "plt.plot(true_state['x'][:,0], true_state['x'][:,1], '--', color=[0.5,0.5,0.5], label='Wahrer Zustand')\n",
    "plt.scatter(measurement_signal['y'][:,0], measurement_signal['y'][:,1], s=1.2, label='Messwerte')\n",
    "plt.grid(True)\n",
    "plt.legend()\n",
    "plt.show()"
   ]
  },
  {
   "cell_type": "markdown",
   "id": "aae79443",
   "metadata": {},
   "source": [
    "## Auslegung des Kalman Filters\n",
    "\n",
    "### Streckenmodell\n",
    "Im Kontext der Zustandsschaetzung eines bewegten Ziels wird\n",
    "das Streckenmodell oft auch _Bewegungsmodell_ genannt,\n",
    "da es die Bewegung des Ziels modelliert.\n",
    "\n",
    "Wir gehen von einem Punktziel aus und formulieren den Schwerpunktsatz\n",
    "\\begin{align}\n",
    "    m \\ddot{p}_x &= F_x \\\\\n",
    "    m \\ddot{p}_y &= F_y\n",
    "\\end{align}\n",
    "\n",
    "Da wir die Kraefte nicht kennen, setzen wir sie zu Null.\n",
    "Den Fehler, den wir dadurch erhalten, modellieren wir durch das sogenannte _Prozessrauschen_.\n",
    "Dieses wird dazu genutzt, Unsicherheiten im Streckenmodell zu modellieren.\n",
    "\n",
    "Unter Annahme einer konstanten Masse $m$ erhalten wir\n",
    "\\begin{align}\n",
    "    \\dot{v}_x &= 0 \\\\\n",
    "    \\dot{v}_y &= 0\n",
    "\\end{align}\n",
    "\n",
    "Dieses Modell ist in der Literatur unter dem Namen _Constant Velocity_ Modell bekannt.\n",
    "\n",
    "### Messmodell\n",
    "\n",
    "### Zustandsraumdarstellung\n",
    "Wir koennen das Streckenmodell in Form der linearen ZRD darstellen.\n",
    "\n",
    "### Zeitliche Diskretisierung\n",
    "\n"
   ]
  },
  {
   "cell_type": "code",
   "execution_count": null,
   "id": "1e61fb2b",
   "metadata": {},
   "outputs": [],
   "source": []
  }
 ],
 "metadata": {
  "kernelspec": {
   "display_name": "Python 3 (ipykernel)",
   "language": "python",
   "name": "python3"
  },
  "language_info": {
   "codemirror_mode": {
    "name": "ipython",
    "version": 3
   },
   "file_extension": ".py",
   "mimetype": "text/x-python",
   "name": "python",
   "nbconvert_exporter": "python",
   "pygments_lexer": "ipython3",
   "version": "3.9.13"
  }
 },
 "nbformat": 4,
 "nbformat_minor": 5
}
