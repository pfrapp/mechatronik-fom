{
 "cells": [
  {
   "cell_type": "markdown",
   "id": "a23ef35c",
   "metadata": {},
   "source": [
    "# Kalman Filter zur Zustandsschaetzung\n",
    "\n",
    "_Philipp Rapp_\n",
    "\n",
    "**Mechatronik 2022/2023**\n",
    "\n"
   ]
  },
  {
   "cell_type": "code",
   "execution_count": null,
   "id": "38f88af0",
   "metadata": {},
   "outputs": [],
   "source": [
    "# Pakete\n",
    "import numpy as np\n",
    "import matplotlib.pyplot as plt\n",
    "from scipy.stats import multivariate_normal\n",
    "\n",
    "%matplotlib inline"
   ]
  },
  {
   "cell_type": "markdown",
   "id": "ef77f59a",
   "metadata": {},
   "source": [
    "## Erzeugung der Trajektorie des wahren Zustands\n",
    "\n",
    "Da wir in der Simulation arbeiten, koennen wir die Trajektorie $x(t)$ des wahren (und eigentlich unbekannten) Zustands erzeugen.\n",
    "Damit koennen wir die Funktion des Kalman Filters ueberpruefen.\n",
    "\n",
    "Wir diskretisieren den Verlauf des Zustands mit der Schrittweite $\\Delta T = 0.01$ (das entspricht 100 Hz) und speichern das Ergebnis in einem Dictionary.\n",
    "\n",
    "Als Szenario nehmen wir an, dass das Flugzeug durch einen Punkt modelliert wird und eine Acht abfliegt.\n",
    "\n",
    "Die (wahre) Position des Punktziels ist gegeben durch die Position $(p_x, p_y)$ mit\n",
    "\\begin{align}\n",
    "    p_x &= \\cos(\\omega t) \\\\\n",
    "    p_y &= \\sin(2 \\omega t)\n",
    "\\end{align}\n",
    "mit $t \\in [0,T]$.\n",
    "\n",
    "Die Geschwindigkeit ergibt sich damit zu\n",
    "\\begin{align}\n",
    "    v_x &= -\\omega \\sin(\\omega t) \\\\\n",
    "    v_y &= 2 \\omega \\cos(2 \\omega t)\n",
    "\\end{align}"
   ]
  },
  {
   "cell_type": "markdown",
   "id": "66cf0060",
   "metadata": {},
   "source": [
    "### Allgemeine Parameter"
   ]
  },
  {
   "cell_type": "code",
   "execution_count": null,
   "id": "c586874c",
   "metadata": {},
   "outputs": [],
   "source": [
    "# Gesamtdauer\n",
    "T = 10\n",
    "\n",
    "true_state = {}\n",
    "true_state['step_size'] = 0.01\n",
    "# 0 bis 10 Sekunden\n",
    "true_state['t'] = np.arange(0, 10.0, true_state['step_size'])"
   ]
  },
  {
   "cell_type": "markdown",
   "id": "b6f8e4c9",
   "metadata": {},
   "source": [
    "### Definition des Szenarios\n",
    "\n",
    "Wir betrachten eine \"Acht\" aus der Vogelperspektive."
   ]
  },
  {
   "cell_type": "code",
   "execution_count": null,
   "id": "b9cf2cfe",
   "metadata": {},
   "outputs": [],
   "source": [
    "# Frequenz\n",
    "omega = 2*np.pi/T\n",
    "\n",
    "# Position\n",
    "true_state['pos_x'] = np.cos(omega*true_state['t'])\n",
    "true_state['pos_y'] = np.sin(2.0*omega*true_state['t'])\n",
    "# Geschwindigkeit\n",
    "true_state['vel_x'] = -omega*np.sin(omega*true_state['t'])\n",
    "true_state['vel_y'] = 2*omega*np.cos(2*omega*true_state['t'])\n",
    "true_state['x'] = np.column_stack((true_state['pos_x'], true_state['pos_y'], true_state['vel_x'], true_state['vel_y']))"
   ]
  },
  {
   "cell_type": "code",
   "execution_count": null,
   "id": "9793342a",
   "metadata": {},
   "outputs": [],
   "source": [
    "plt.plot(true_state['pos_x'], true_state['pos_y'])\n",
    "plt.grid(True)\n",
    "plt.xlabel('pos_x')\n",
    "plt.ylabel('pos_y')\n",
    "plt.show()"
   ]
  },
  {
   "cell_type": "markdown",
   "id": "b6608076",
   "metadata": {},
   "source": [
    "## Hinzufuegen von Messrauschen\n",
    "\n",
    "Als naechstes fuegen wir Messrauschen hinzu. Wir nehmen an, dass das Messrauschen mittelwertfrei, normalverteilt und weiss ist. Weisses Rauschen bedeutet, dass es zeitlich unkorreliert ist.\n",
    "\n"
   ]
  },
  {
   "cell_type": "code",
   "execution_count": null,
   "id": "824f2279",
   "metadata": {},
   "outputs": [],
   "source": [
    "R = 0.02**2 * np.eye(2)\n",
    "# R = 0.002**2 * np.eye(2)\n",
    "print(f'Kovarianzmatrix R des Messrauschens:\\n{R}')\n",
    "\n",
    "measurement_noise = { 'mean': np.array([0.0, 0.0]), 'cov': R }\n",
    "measurement_noise_distribution = multivariate_normal(mean=measurement_noise['mean'], cov=measurement_noise['cov'])"
   ]
  },
  {
   "cell_type": "markdown",
   "id": "df3eaf01",
   "metadata": {},
   "source": [
    "## Erzeugung des Messsignals\n",
    "\n",
    "Das gemessene Signal $y(t)$ besteht aus der Position, die zusaetzlich durch Rauschen ueberlagert ist.\n",
    "\n",
    "Wir nehmen die gleiche zeitliche Diskretisierung an wie fuer den wahren Zustand."
   ]
  },
  {
   "cell_type": "code",
   "execution_count": null,
   "id": "b3364631",
   "metadata": {},
   "outputs": [],
   "source": [
    "N = len(true_state['t'])\n",
    "\n",
    "measurement_signal = {}\n",
    "measurement_signal['t'] = true_state['t']\n",
    "measurement_signal['y'] = true_state['x'][:,:2] + measurement_noise_distribution.rvs(N)"
   ]
  },
  {
   "cell_type": "code",
   "execution_count": null,
   "id": "b358d4b2",
   "metadata": {},
   "outputs": [],
   "source": [
    "plt.plot(true_state['x'][:,0], true_state['x'][:,1], '--', color=[0.5,0.5,0.5], label='Wahrer Zustand (Position)')\n",
    "plt.scatter(measurement_signal['y'][:,0], measurement_signal['y'][:,1], s=1.2, label='Messwerte')\n",
    "plt.grid(True)\n",
    "plt.legend()\n",
    "plt.xlabel('pos_x')\n",
    "plt.ylabel('pos_y')\n",
    "plt.show()"
   ]
  },
  {
   "cell_type": "markdown",
   "id": "aae79443",
   "metadata": {},
   "source": [
    "## Auslegung des Kalman Filters\n",
    "\n",
    "### Streckenmodell\n",
    "Im Kontext der Zustandsschaetzung eines bewegten Ziels wird\n",
    "das Streckenmodell oft auch _Bewegungsmodell_ genannt,\n",
    "da es die Bewegung des Ziels modelliert.\n",
    "\n",
    "Wir gehen von einem Punktziel aus und formulieren den Schwerpunktsatz\n",
    "\\begin{align}\n",
    "    m \\ddot{p}_x &= F_x \\\\\n",
    "    m \\ddot{p}_y &= F_y\n",
    "\\end{align}\n",
    "\n",
    "Da wir die Kraefte nicht kennen, setzen wir sie zu Null.\n",
    "Den Fehler, den wir dadurch erhalten, modellieren wir durch das sogenannte _Prozessrauschen_\n",
    "(mit Kovarianzmatrix $Q$).\n",
    "Dieses wird dazu genutzt, Unsicherheiten im Streckenmodell zu modellieren.\n",
    "\n",
    "Unter Annahme einer konstanten Masse $m$ erhalten wir\n",
    "\\begin{align}\n",
    "    \\dot{v}_x &= 0 \\\\\n",
    "    \\dot{v}_y &= 0\n",
    "\\end{align}\n",
    "\n",
    "Dieses Modell ist in der Literatur unter dem Namen _Constant Velocity_ Modell bekannt.\n",
    "\n",
    "### Messmodell\n",
    "\n",
    "Wir nehmen an dass wir die Position des Flugszeugs messen können (nicht aber seine Geschwindigkeit).\n",
    "\n",
    "Auf die Messung wirkt weißes Gaußsches Rauschen mit Kovarianzmatrix $R$.\n",
    "\n",
    "### Zustandsraumdarstellung\n",
    "Wir koennen das Streckenmodell in Form der linearen ZRD darstellen.\n",
    "\n",
    "Der Zustandsvektor ist\n",
    "\\begin{equation}\n",
    "    x = ( p_x, p_y, v_x, v_y)\n",
    "\\end{equation}\n",
    "\n",
    "Die ZRD ist damit\n",
    "\\begin{align}\n",
    "    \\dot{x} &= Ax \\\\\n",
    "    y &= Cx\n",
    "\\end{align}\n",
    "mit\n",
    "\\begin{equation}\n",
    "    A = \\left( \\begin{array}{cccc} 0 & 0 & 1 & 0 \\\\\n",
    "                                   0 & 0 & 0 & 1 \\\\\n",
    "                                   0 & 0 & 0 & 0 \\\\\n",
    "                                   0 & 0 & 0 & 0\n",
    "               \\end{array} \\right)\n",
    "\\end{equation}\n",
    "und\n",
    "\\begin{equation}\n",
    "    C = \\left( \\begin{array}{cccc} 1 & 0 & 0 & 0 \\\\\n",
    "                                   0 & 1 & 0 & 0\n",
    "               \\end{array} \\right)\n",
    "\\end{equation}\n",
    "\n",
    "### Zeitliche Diskretisierung\n",
    "\n",
    "\n",
    "\\begin{align}\n",
    "    x_{k+1} &= F x_k \\\\\n",
    "    y_k &= C x_k\n",
    "\\end{align}\n",
    "mit\n",
    "\\begin{equation}\n",
    "    F = E + \\Delta t A\n",
    "\\end{equation}"
   ]
  },
  {
   "cell_type": "code",
   "execution_count": null,
   "id": "1e61fb2b",
   "metadata": {},
   "outputs": [],
   "source": [
    "kalman_filter = {}\n",
    "kalman_filter['step_size'] = true_state['step_size']\n",
    "kalman_filter['R'] = measurement_noise['cov']\n",
    "# kalman_filter['Q'] = 0.05**2 * np.eye(4)\n",
    "kalman_filter['Q'] = np.diag([0.005**2, 0.005**2, 0.1**2, 0.1**2])\n",
    "print(kalman_filter['Q'])\n",
    "kalman_filter['A'] = np.zeros((4,4),dtype=float)\n",
    "kalman_filter['A'][0,2] = 1.0\n",
    "kalman_filter['A'][1,3] = 1.0\n",
    "kalman_filter['F'] = np.eye(4) + kalman_filter['step_size']*kalman_filter['A']\n",
    "kalman_filter['C'] = np.array([[1.0,0,0,0], [0,1.0,0,0]])"
   ]
  },
  {
   "cell_type": "markdown",
   "id": "f5c142a5",
   "metadata": {},
   "source": [
    "## Definition des Kalman Filters\n",
    "\n",
    "Das Kalman Filter kann als stochastischer Beobachter verstanden werden.\n",
    "\n",
    "Im Gegensatz zum Luenberger Beobachter wird das Messrauschen R explizit berücksichtigt.\n",
    "Darüber hinaus werden Unsicherheiten in der Modellierung der Strecke als Prozessrauschen dargestellt und ebenfalls berücksichtigt.\n",
    "\n",
    "Der Zustand selbst wird ebenfalls als normalverteiltes Signal verstanden, wobei die (vom Luenberger Beobachter) bekannte Zustandsschätzung $\\hat{x}(t)$ den Mittelwert darstellt, und die Kovarianzmatrix $P$ die Kovarianz des Schätzfehlers $x(t) - \\hat{x}(t)$ darstellt. Damit stellt $P$ die Unsicherheit der Schätzung dar.\n",
    "\n",
    "Das Kalman Filter arbeitet auf zeitdiskreten Signalen.\n",
    "\n",
    "Die Implementierung wird in zwei Schritte unterteilt:\n",
    "* Prädiktion vom Zeitpunkt $k$ zum nächsten Zeitpunkt $k+1$ mit Hilfe des Streckemodells\n",
    "* Korrektur der prädizierten Zustandsschätzung mit Hilfe des Messmodells\n",
    "\n",
    "\n",
    "### Prädiktion\n",
    "\n",
    "\\begin{align}\n",
    "    \\hat{x}_{k+1}^{-} &+ F \\hat{x}_{k}^{+} + B u_k \\\\\n",
    "    P_{k+1}^{-} &= F P_{k}^{+} F^T + Q\n",
    "\\end{align}\n",
    "\n",
    "\n",
    "### Korrektur\n",
    "\n",
    "\\begin{align}\n",
    "    \\hat{x}_{k+1}^{+} &+ \\hat{x}_{k+1}^{-} + K \\cdot \\left( y_{k+1} - \\hat{y}_{k+1} \\right) \\\\\n",
    "    P_{k+1}^{+} &= \\left( E - K C \\right) P_{k+1}^{-}\n",
    "\\end{align}\n",
    "\n",
    "mit\n",
    "\\begin{align}\n",
    "    \\hat{y}_{k+1} &= C \\hat{x}_{k+1}^{-} \\\\\n",
    "    S_{k+1} &= C P_{k+1}^{-} C^T + R \\\\\n",
    "    K &= P_{k+1}^{-} C^T S_{k+1}^{-1}\n",
    "\\end{align}\n"
   ]
  },
  {
   "cell_type": "code",
   "execution_count": null,
   "id": "559d223f",
   "metadata": {},
   "outputs": [],
   "source": [
    "# Praediktion\n",
    "def prediction(x_dach, P, kf_params):\n",
    "    F, Q = kf_params['F'], kf_params['Q']\n",
    "    x_dach_priori = np.dot(F, x_dach)\n",
    "    P_priori = np.linalg.multi_dot((F, P, F.T)) + kf_params['Q']\n",
    "    return x_dach_priori, P_priori\n",
    "    \n",
    "    \n",
    "# Korrektur\n",
    "def correction(y, x_dach_priori, P_priori, kf_params):\n",
    "    C, R = kf_params['C'], kf_params['R']\n",
    "    y_expected = np.dot(C, x_dach_priori)\n",
    "    innovation = y - y_expected\n",
    "    \n",
    "    S = np.linalg.multi_dot((C, P_priori, C.T)) + R\n",
    "    S_inv = np.linalg.inv(S)\n",
    "    \n",
    "    # Berechnung der Kalman Verstaerkung\n",
    "    K = np.linalg.multi_dot((P_priori, C.T, S_inv))\n",
    "    \n",
    "    x_dach_posteriori = x_dach_priori + np.dot(K, innovation)\n",
    "    P_posteriori = np.dot(np.eye(4) - np.dot(K, C), P_priori)\n",
    "    \n",
    "    return x_dach_posteriori, P_posteriori"
   ]
  },
  {
   "cell_type": "code",
   "execution_count": null,
   "id": "b7ca7a7b",
   "metadata": {},
   "outputs": [],
   "source": [
    "# Durchfuehrung der Zustandsschaetzung\n",
    "estimated_state = {}\n",
    "estimated_state['t'] = true_state['t']\n",
    "estimated_state['x'] = np.zeros(true_state['x'].shape)\n",
    "\n",
    "# Initialer Schaetzwert\n",
    "x_dach = np.array([0.0, 0.0, 0.0, 0.0])\n",
    "P = np.eye(4)\n",
    "\n",
    "print(f'x_dach_0=\\n{x_dach}')"
   ]
  },
  {
   "cell_type": "code",
   "execution_count": null,
   "id": "2d03886c",
   "metadata": {},
   "outputs": [],
   "source": [
    "for idx in range(N):\n",
    "    # Messung abgreifen -- wir kommen nur an die Messung, nicht an den wahren Zustand.\n",
    "    y = measurement_signal['y'][idx]\n",
    "    x_dach_priori, P_priori = prediction(x_dach, P, kalman_filter)\n",
    "    x_dach_posteriori, P_posteriori = correction(y, x_dach_priori, P_priori, kalman_filter)\n",
    "    x_dach, P = x_dach_posteriori, P_posteriori\n",
    "    estimated_state['x'][idx] = x_dach"
   ]
  },
  {
   "cell_type": "code",
   "execution_count": null,
   "id": "b6de746f",
   "metadata": {},
   "outputs": [],
   "source": [
    "# Ergebnisse anzeigen\n",
    "\n",
    "plt.plot(estimated_state['x'][:,0], estimated_state['x'][:,1], '-', color=[0.5,0.5,0.5], label='Geschaetzter Zustand (Position)')\n",
    "plt.scatter(measurement_signal['y'][:,0], measurement_signal['y'][:,1], s=1.2, label='Messwerte')\n",
    "plt.grid(True)\n",
    "plt.legend()\n",
    "plt.show()"
   ]
  },
  {
   "cell_type": "code",
   "execution_count": null,
   "id": "9d142dfd",
   "metadata": {},
   "outputs": [],
   "source": [
    "# Vergleich der Geschwindigkeiten\n",
    "\n",
    "fig = plt.figure(figsize=(20,20))\n",
    "ax = fig.add_subplot(2,1,1)\n",
    "ax.plot(estimated_state['t'], estimated_state['x'][:,2], '-', color=[0.5,0.5,0.5], label='vx geschaetzt', linewidth=2)\n",
    "ax.plot(true_state['t'], true_state['x'][:,2], '--', color=[0.0,0.5,1.0], label='vx wahr', linewidth=2)\n",
    "ax.grid(True)\n",
    "ax.legend()\n",
    "\n",
    "ax = fig.add_subplot(2,1,2)\n",
    "ax.plot(estimated_state['t'], estimated_state['x'][:,3], '-', color=[0.5,0.5,0.5], label='vy geschaetzt', linewidth=2)\n",
    "ax.plot(true_state['t'], true_state['x'][:,3], '--', color=[0.0,0.5,1.0], label='vy wahr', linewidth=2)\n",
    "ax.grid(True)\n",
    "plt.legend()\n",
    "\n",
    "plt.show()"
   ]
  },
  {
   "cell_type": "code",
   "execution_count": null,
   "id": "8da636ea",
   "metadata": {},
   "outputs": [],
   "source": [
    "# Vergleich der Positionen\n",
    "\n",
    "fig = plt.figure(figsize=(20,20))\n",
    "ax = fig.add_subplot(2,1,1)\n",
    "ax.plot(estimated_state['t'], estimated_state['x'][:,0], '-', color=[0.5,0.5,0.5], label='px geschaetzt', linewidth=2)\n",
    "ax.plot(true_state['t'], true_state['x'][:,0], '--', color=[0.0,0.5,1.0], label='px wahr', linewidth=2)\n",
    "ax.grid(True)\n",
    "ax.legend()\n",
    "\n",
    "ax = fig.add_subplot(2,1,2)\n",
    "ax.plot(estimated_state['t'], estimated_state['x'][:,1], '-', color=[0.5,0.5,0.5], label='py geschaetzt', linewidth=2)\n",
    "ax.plot(true_state['t'], true_state['x'][:,1], '--', color=[0.0,0.5,1.0], label='py wahr', linewidth=2)\n",
    "ax.grid(True)\n",
    "plt.legend()\n",
    "\n",
    "plt.show()"
   ]
  },
  {
   "cell_type": "code",
   "execution_count": null,
   "id": "d3f70050",
   "metadata": {},
   "outputs": [],
   "source": [
    "# Vergleich mit Geschwindigkeitsschaetzung durch Differenzenbildung.\n",
    "# (Neue Position minus alte Position).\n",
    "\n",
    "vx_via_diff = np.diff(measurement_signal['y'][:,0]) / true_state['step_size']\n",
    "vx_via_diff = np.concatenate((np.zeros((1,)), vx_via_diff))\n",
    "\n",
    "vy_via_diff = np.diff(measurement_signal['y'][:,1]) / true_state['step_size']\n",
    "vy_via_diff = np.concatenate((np.zeros((1,)), vy_via_diff))\n",
    "\n",
    "fig = plt.figure(figsize=(20,20))\n",
    "ax = fig.add_subplot(2,1,1)\n",
    "ax.plot(estimated_state['t'], estimated_state['x'][:,2], '-', color=[0.5,0.5,0.5], label='vx geschaetzt', linewidth=3)\n",
    "ax.plot(true_state['t'], true_state['x'][:,2], '--', color=[0.0,0.5,1.0], label='vx wahr', linewidth=3)\n",
    "ax.plot(estimated_state['t'], vx_via_diff, '-', color=[1.0,0.5,0.0], label='vx einfach', linewidth=1)\n",
    "ax.grid(True)\n",
    "ax.legend()\n",
    "\n",
    "ax = fig.add_subplot(2,1,2)\n",
    "ax.plot(estimated_state['t'], estimated_state['x'][:,3], '-', color=[0.5,0.5,0.5], label='vy geschaetzt', linewidth=2)\n",
    "ax.plot(true_state['t'], true_state['x'][:,3], '--', color=[0.0,0.5,1.0], label='vy wahr', linewidth=2)\n",
    "ax.plot(estimated_state['t'], vy_via_diff, '-', color=[1.0,0.5,0.0], label='vy einfach', linewidth=1)\n",
    "ax.grid(True)\n",
    "plt.legend()\n",
    "\n",
    "plt.show()"
   ]
  },
  {
   "cell_type": "code",
   "execution_count": null,
   "id": "00e2a022",
   "metadata": {},
   "outputs": [],
   "source": []
  }
 ],
 "metadata": {
  "kernelspec": {
   "display_name": "Python 3 (ipykernel)",
   "language": "python",
   "name": "python3"
  },
  "language_info": {
   "codemirror_mode": {
    "name": "ipython",
    "version": 3
   },
   "file_extension": ".py",
   "mimetype": "text/x-python",
   "name": "python",
   "nbconvert_exporter": "python",
   "pygments_lexer": "ipython3",
   "version": "3.9.13"
  }
 },
 "nbformat": 4,
 "nbformat_minor": 5
}
